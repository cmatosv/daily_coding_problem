{
 "cells": [
  {
   "cell_type": "markdown",
   "metadata": {},
   "source": [
    "## Coding Problems!"
   ]
  },
  {
   "cell_type": "markdown",
   "metadata": {},
   "source": [
    "### Problem 0 [Example]:\n",
    "There's a staircase with $N$ steps, and you can climb 1 or 2 steps at a time. Given $N$, write a function that returns the number of unique ways you can climb the staircase. The order of the steps matters.\n",
    "\n",
    "For example, if $N = 4$, then there are 5 unique ways:\n",
    "\n",
    "- 1, 1, 1, 1\n",
    "- 2, 1, 1\n",
    "- 1, 2, 1\n",
    "- 1, 1, 2\n",
    "- 2, 2\n",
    "\n",
    "What if, instead of being able to climb 1 or 2 steps at a time, you could climb any number from a set of positive integers $X$? For example, if $X = {1, 3, 5}$, you could climb 1, 3, or 5 steps at a time. Generalize your function to take in $X$.\n",
    "\n",
    "#### Solution:\n",
    "It's always good to start off with some test cases. Let's start with small cases and see if we can find some sort of pattern.\n",
    "\n",
    "- $N = 1: [1]$\n",
    "- $N = 2: [1, 1], [2]$\n",
    "- $N = 3: [1, 2], [1, 1, 1], [2, 1]$\n",
    "- $N = 4: [1, 1, 2], [2, 2], [1, 2, 1], [1, 1, 1, 1], [2, 1, 1]$\n",
    "What's the relationship?\n",
    "\n",
    "The only ways to get to $N = 3$, is to first get to $N = 1$, and then go up by 2 steps, or get to $N = 2$ and go up by 1 step. So $f(3) = f(2) + f(1)$.\n",
    "\n",
    "Does this hold for $N = 4$? Yes, it does. Since we can only get to the 4th step by getting to the 3rd step and going up by one, or by getting to the 2nd step and going up by two. So $f(4) = f(3) + f(2)$.\n",
    "\n",
    "To generalize, $f(n) = f(n - 1) + f(n - 2)$. That's just the Fibonacci sequence!"
   ]
  },
  {
   "cell_type": "code",
   "execution_count": 1,
   "metadata": {},
   "outputs": [],
   "source": [
    "def staircase(n):\n",
    "    if n <= 1:\n",
    "        return 1\n",
    "    return staircase(n - 1) + staircase(n - 2)"
   ]
  },
  {
   "cell_type": "markdown",
   "metadata": {},
   "source": [
    "Of course, this is really slow $(O(2^N))$ — we are doing a lot of repeated computations! We can do it a lot faster by just computing iteratively $(O(N))$:"
   ]
  },
  {
   "cell_type": "code",
   "execution_count": 2,
   "metadata": {},
   "outputs": [],
   "source": [
    "def staircase(n):\n",
    "    a, b = 1, 2\n",
    "    for _ in range(n - 1):\n",
    "        a, b = b, a + b\n",
    "    return a"
   ]
  },
  {
   "cell_type": "markdown",
   "metadata": {},
   "source": [
    "Now, let's try to generalize what we've learned so that it works if you can take a number of steps from the set $X$. Similar reasoning tells us that if $X = {1, 3, 5}$, then our algorithm should be $f(n) = f(n - 1) + f(n - 3) + f(n - 5)$. If $n < 0$, then we should return 0 since we can't start from a negative number of steps."
   ]
  },
  {
   "cell_type": "code",
   "execution_count": 3,
   "metadata": {},
   "outputs": [],
   "source": [
    "def staircase(n, X):\n",
    "    if n < 0:\n",
    "        return 0\n",
    "    elif n == 0:\n",
    "        return 1\n",
    "    else:\n",
    "        return sum(staircase(n - x, X) for x in X)"
   ]
  },
  {
   "cell_type": "markdown",
   "metadata": {},
   "source": [
    "This is again, very slow $(O(|X|^N))$ since we are repeating computations again. We can use dynamic programming to speed it up.\n",
    "\n",
    "Each entry $cache[i]$ will contain the number of ways we can get to step $i$ with the set $X$. Then, we'll build up the array from zero using the same recurrence as before:"
   ]
  },
  {
   "cell_type": "code",
   "execution_count": 4,
   "metadata": {},
   "outputs": [],
   "source": [
    "def staircase(n, X):\n",
    "    cache = [0 for _ in range(n + 1)]\n",
    "    cache[0] = 1\n",
    "    for i in range(1, n + 1):\n",
    "        cache[i] += sum(cache[i - x] for x in X if i - x >= 0)\n",
    "    return cache[n]"
   ]
  }
 ],
 "metadata": {
  "kernelspec": {
   "display_name": "Python 3",
   "language": "python",
   "name": "python3"
  },
  "language_info": {
   "codemirror_mode": {
    "name": "ipython",
    "version": 3
   },
   "file_extension": ".py",
   "mimetype": "text/x-python",
   "name": "python",
   "nbconvert_exporter": "python",
   "pygments_lexer": "ipython3",
   "version": "3.7.3"
  }
 },
 "nbformat": 4,
 "nbformat_minor": 2
}
