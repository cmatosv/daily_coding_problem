{
 "cells": [
  {
   "cell_type": "markdown",
   "metadata": {},
   "source": [
    "### Problem 1 [Easy]:\n",
    "This problem was recently asked by Google.\n",
    "\n",
    "Given a list of numbers and a number k, return whether any two numbers from the list add up to k. The list is not ordered by default and the numbers are integers.\n",
    "\n",
    "For example, given [10, 15, 3, 7] and k of 17, return true since 10 + 7 is 17.\n",
    "\n",
    "Bonus: Can you do this in one pass?\n",
    "\n",
    "First a-priori solution is $O(n^2)$ not eficient at all:"
   ]
  },
  {
   "cell_type": "code",
   "execution_count": 1,
   "metadata": {},
   "outputs": [
    {
     "name": "stdout",
     "output_type": "stream",
     "text": [
      "15 + -5\n",
      "True\n"
     ]
    }
   ],
   "source": [
    "L = [10, 15, -5, 7] \n",
    "k = 10\n",
    "\n",
    "def did_sum_up(int_list, k):\n",
    "    for i in range(0,len(int_list)):\n",
    "        for j in range(i+1,len(int_list)):\n",
    "            if int_list[i]+int_list[j] == k:\n",
    "                print (int_list[i],\"+\",int_list[j])\n",
    "                return True\n",
    "    return False\n",
    "        \n",
    "print(did_sum_up(L,k)) "
   ]
  },
  {
   "cell_type": "markdown",
   "metadata": {},
   "source": [
    "More elegant solutions but still $(O(n^2))$:"
   ]
  },
  {
   "cell_type": "code",
   "execution_count": 2,
   "metadata": {},
   "outputs": [
    {
     "name": "stdout",
     "output_type": "stream",
     "text": [
      "15 + -5\n",
      "True\n"
     ]
    }
   ],
   "source": [
    "L = [10, 15, -5, 3, 7] \n",
    "k = 10\n",
    "\n",
    "for n in L:\n",
    "    if k-n in L:\n",
    "        print (n, \"+\", k-n)\n",
    "        print(True) \n",
    "        break"
   ]
  },
  {
   "cell_type": "code",
   "execution_count": 3,
   "metadata": {},
   "outputs": [
    {
     "name": "stdout",
     "output_type": "stream",
     "text": [
      "True\n"
     ]
    }
   ],
   "source": [
    "L = [10, 15, -5, 7] \n",
    "k = 10\n",
    "\n",
    "print (True in [k-n in L for n in L])"
   ]
  },
  {
   "cell_type": "markdown",
   "metadata": {},
   "source": [
    "$O(n)$ using sets. The $x$ $in$ $set$ operations is O(1). The idea is for each element if the list, check if its complement (meaning sum-element) has been seen before. We use a set to store the complements and for each element check if it is in the set already. That means that the current element is the complement of a previusly seen number that adds up to the required sum. If it is not in the set then add its complement to it."
   ]
  },
  {
   "cell_type": "code",
   "execution_count": 4,
   "metadata": {},
   "outputs": [
    {
     "data": {
      "text/plain": [
       "False"
      ]
     },
     "execution_count": 4,
     "metadata": {},
     "output_type": "execute_result"
    }
   ],
   "source": [
    "L = [10, 15, 5, 3, 7] \n",
    "k = 2\n",
    "diff = set()\n",
    "\n",
    "def did_sum_up(int_list, k):\n",
    "    for n in int_list:      \n",
    "        if n in diff:\n",
    "            return True\n",
    "        diff.add(k-n)        \n",
    "    return False\n",
    "\n",
    "did_sum_up(L,k)"
   ]
  },
  {
   "cell_type": "code",
   "execution_count": null,
   "metadata": {},
   "outputs": [],
   "source": []
  }
 ],
 "metadata": {
  "kernelspec": {
   "display_name": "Python 3",
   "language": "python",
   "name": "python3"
  },
  "language_info": {
   "codemirror_mode": {
    "name": "ipython",
    "version": 3
   },
   "file_extension": ".py",
   "mimetype": "text/x-python",
   "name": "python",
   "nbconvert_exporter": "python",
   "pygments_lexer": "ipython3",
   "version": "3.7.3"
  }
 },
 "nbformat": 4,
 "nbformat_minor": 2
}
