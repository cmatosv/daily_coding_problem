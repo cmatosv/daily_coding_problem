{
 "cells": [
  {
   "cell_type": "markdown",
   "metadata": {},
   "source": [
    "### Problem 3 [Hard]:\n",
    "\n",
    "This problem was asked by Uber.\n",
    "\n",
    "Given an array of integers, return a new array such that each element at index $i$ of the new array is the product of all the numbers in the original array except the one at $i$.\n",
    "\n",
    "For example, if our input was $[1, 2, 3, 4, 5]$, the expected output would be $[120, 60, 40, 30, 24]$. If our input was $[3, 2, 1]$, the expected output would be $[2, 3, 6]$.\n"
   ]
  },
  {
   "cell_type": "code",
   "execution_count": 12,
   "metadata": {},
   "outputs": [
    {
     "name": "stdout",
     "output_type": "stream",
     "text": [
      "[120, 60, 40, 30, 24]\n"
     ]
    }
   ],
   "source": [
    "in_array = [1,2,3,4,5]\n",
    "out_array = []\n",
    "\n",
    "prod = reduce(lambda x, y: x*y, in_array)\n",
    "\n",
    "for i in range(0,len(in_array)):\n",
    "    out_array.append(int(prod/in_array[i]))\n",
    "\n",
    "print(out_array)"
   ]
  },
  {
   "cell_type": "markdown",
   "metadata": {},
   "source": [
    "__Follow-up__: what if you can't use division?"
   ]
  },
  {
   "cell_type": "code",
   "execution_count": 13,
   "metadata": {},
   "outputs": [
    {
     "name": "stdout",
     "output_type": "stream",
     "text": [
      "[120, 60, 40, 30, 24]\n"
     ]
    }
   ],
   "source": [
    "from functools import reduce\n",
    "\n",
    "in_array = [1,2,3,4,5]\n",
    "out_array = []\n",
    "\n",
    "for i in range(0,len(in_array)):\n",
    "    out_array.append(reduce(lambda x, y: x*y, in_array[0:i]+in_array[i+1:]))\n",
    "print(out_array)"
   ]
  },
  {
   "cell_type": "code",
   "execution_count": null,
   "metadata": {},
   "outputs": [],
   "source": []
  }
 ],
 "metadata": {
  "kernelspec": {
   "display_name": "Python 3",
   "language": "python",
   "name": "python3"
  },
  "language_info": {
   "codemirror_mode": {
    "name": "ipython",
    "version": 3
   },
   "file_extension": ".py",
   "mimetype": "text/x-python",
   "name": "python",
   "nbconvert_exporter": "python",
   "pygments_lexer": "ipython3",
   "version": "3.7.3"
  }
 },
 "nbformat": 4,
 "nbformat_minor": 2
}
